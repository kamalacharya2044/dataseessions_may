{
 "cells": [
  {
   "cell_type": "code",
   "execution_count": 1,
   "metadata": {},
   "outputs": [],
   "source": [
    "import numpy as np"
   ]
  },
  {
   "cell_type": "code",
   "execution_count": 2,
   "metadata": {},
   "outputs": [
    {
     "data": {
      "text/plain": [
       "'1.16.2'"
      ]
     },
     "execution_count": 2,
     "metadata": {},
     "output_type": "execute_result"
    }
   ],
   "source": [
    "np.__version__"
   ]
  },
  {
   "cell_type": "code",
   "execution_count": 4,
   "metadata": {},
   "outputs": [
    {
     "name": "stdout",
     "output_type": "stream",
     "text": [
      "Help on function savetxt in module numpy:\n",
      "\n",
      "savetxt(fname, X, fmt='%.18e', delimiter=' ', newline='\\n', header='', footer='', comments='# ', encoding=None)\n",
      "    Save an array to a text file.\n",
      "    \n",
      "    Parameters\n",
      "    ----------\n",
      "    fname : filename or file handle\n",
      "        If the filename ends in ``.gz``, the file is automatically saved in\n",
      "        compressed gzip format.  `loadtxt` understands gzipped files\n",
      "        transparently.\n",
      "    X : 1D or 2D array_like\n",
      "        Data to be saved to a text file.\n",
      "    fmt : str or sequence of strs, optional\n",
      "        A single format (%10.5f), a sequence of formats, or a\n",
      "        multi-format string, e.g. 'Iteration %d -- %10.5f', in which\n",
      "        case `delimiter` is ignored. For complex `X`, the legal options\n",
      "        for `fmt` are:\n",
      "    \n",
      "        * a single specifier, `fmt='%.4e'`, resulting in numbers formatted\n",
      "          like `' (%s+%sj)' % (fmt, fmt)`\n",
      "        * a full string specifying every real and imaginary part, e.g.\n",
      "          `' %.4e %+.4ej %.4e %+.4ej %.4e %+.4ej'` for 3 columns\n",
      "        * a list of specifiers, one per column - in this case, the real\n",
      "          and imaginary part must have separate specifiers,\n",
      "          e.g. `['%.3e + %.3ej', '(%.15e%+.15ej)']` for 2 columns\n",
      "    delimiter : str, optional\n",
      "        String or character separating columns.\n",
      "    newline : str, optional\n",
      "        String or character separating lines.\n",
      "    \n",
      "        .. versionadded:: 1.5.0\n",
      "    header : str, optional\n",
      "        String that will be written at the beginning of the file.\n",
      "    \n",
      "        .. versionadded:: 1.7.0\n",
      "    footer : str, optional\n",
      "        String that will be written at the end of the file.\n",
      "    \n",
      "        .. versionadded:: 1.7.0\n",
      "    comments : str, optional\n",
      "        String that will be prepended to the ``header`` and ``footer`` strings,\n",
      "        to mark them as comments. Default: '# ',  as expected by e.g.\n",
      "        ``numpy.loadtxt``.\n",
      "    \n",
      "        .. versionadded:: 1.7.0\n",
      "    encoding : {None, str}, optional\n",
      "        Encoding used to encode the outputfile. Does not apply to output\n",
      "        streams. If the encoding is something other than 'bytes' or 'latin1'\n",
      "        you will not be able to load the file in NumPy versions < 1.14. Default\n",
      "        is 'latin1'.\n",
      "    \n",
      "        .. versionadded:: 1.14.0\n",
      "    \n",
      "    \n",
      "    See Also\n",
      "    --------\n",
      "    save : Save an array to a binary file in NumPy ``.npy`` format\n",
      "    savez : Save several arrays into an uncompressed ``.npz`` archive\n",
      "    savez_compressed : Save several arrays into a compressed ``.npz`` archive\n",
      "    \n",
      "    Notes\n",
      "    -----\n",
      "    Further explanation of the `fmt` parameter\n",
      "    (``%[flag]width[.precision]specifier``):\n",
      "    \n",
      "    flags:\n",
      "        ``-`` : left justify\n",
      "    \n",
      "        ``+`` : Forces to precede result with + or -.\n",
      "    \n",
      "        ``0`` : Left pad the number with zeros instead of space (see width).\n",
      "    \n",
      "    width:\n",
      "        Minimum number of characters to be printed. The value is not truncated\n",
      "        if it has more characters.\n",
      "    \n",
      "    precision:\n",
      "        - For integer specifiers (eg. ``d,i,o,x``), the minimum number of\n",
      "          digits.\n",
      "        - For ``e, E`` and ``f`` specifiers, the number of digits to print\n",
      "          after the decimal point.\n",
      "        - For ``g`` and ``G``, the maximum number of significant digits.\n",
      "        - For ``s``, the maximum number of characters.\n",
      "    \n",
      "    specifiers:\n",
      "        ``c`` : character\n",
      "    \n",
      "        ``d`` or ``i`` : signed decimal integer\n",
      "    \n",
      "        ``e`` or ``E`` : scientific notation with ``e`` or ``E``.\n",
      "    \n",
      "        ``f`` : decimal floating point\n",
      "    \n",
      "        ``g,G`` : use the shorter of ``e,E`` or ``f``\n",
      "    \n",
      "        ``o`` : signed octal\n",
      "    \n",
      "        ``s`` : string of characters\n",
      "    \n",
      "        ``u`` : unsigned decimal integer\n",
      "    \n",
      "        ``x,X`` : unsigned hexadecimal integer\n",
      "    \n",
      "    This explanation of ``fmt`` is not complete, for an exhaustive\n",
      "    specification see [1]_.\n",
      "    \n",
      "    References\n",
      "    ----------\n",
      "    .. [1] `Format Specification Mini-Language\n",
      "           <https://docs.python.org/library/string.html#format-specification-mini-language>`_,\n",
      "           Python Documentation.\n",
      "    \n",
      "    Examples\n",
      "    --------\n",
      "    >>> x = y = z = np.arange(0.0,5.0,1.0)\n",
      "    >>> np.savetxt('test.out', x, delimiter=',')   # X is an array\n",
      "    >>> np.savetxt('test.out', (x,y,z))   # x,y,z equal sized 1D arrays\n",
      "    >>> np.savetxt('test.out', x, fmt='%1.4e')   # use exponential notation\n",
      "\n"
     ]
    }
   ],
   "source": [
    "help(np.savetxt)"
   ]
  },
  {
   "cell_type": "code",
   "execution_count": 19,
   "metadata": {},
   "outputs": [],
   "source": [
    "dataset = np.random.randint(1,100,10000)"
   ]
  },
  {
   "cell_type": "code",
   "execution_count": 20,
   "metadata": {},
   "outputs": [],
   "source": [
    "np.savetxt(\"sample1.txt\",dataset, fmt=\"%d\")"
   ]
  },
  {
   "cell_type": "code",
   "execution_count": 32,
   "metadata": {},
   "outputs": [],
   "source": [
    "dataset = np.fromfile('sample1.txt', sep=\"\\n\", dtype=np.int64)"
   ]
  },
  {
   "cell_type": "code",
   "execution_count": 33,
   "metadata": {},
   "outputs": [
    {
     "data": {
      "text/plain": [
       "array([87, 71,  4, ..., 68, 12, 34])"
      ]
     },
     "execution_count": 33,
     "metadata": {},
     "output_type": "execute_result"
    }
   ],
   "source": [
    "dataset"
   ]
  },
  {
   "cell_type": "code",
   "execution_count": 34,
   "metadata": {},
   "outputs": [
    {
     "data": {
      "text/plain": [
       "87"
      ]
     },
     "execution_count": 34,
     "metadata": {},
     "output_type": "execute_result"
    }
   ],
   "source": [
    "dataset[0]"
   ]
  },
  {
   "cell_type": "code",
   "execution_count": 35,
   "metadata": {},
   "outputs": [
    {
     "data": {
      "text/plain": [
       "10000"
      ]
     },
     "execution_count": 35,
     "metadata": {},
     "output_type": "execute_result"
    }
   ],
   "source": [
    "dataset.size"
   ]
  },
  {
   "cell_type": "code",
   "execution_count": 36,
   "metadata": {},
   "outputs": [
    {
     "data": {
      "text/plain": [
       "array([87, 71,  4, 33, 23, 79, 97, 19, 25, 10, 41, 49,  4, 13, 93, 26, 89,\n",
       "       53, 82, 94, 67, 17, 27, 14,  4, 54, 30,  8, 37, 10, 30, 57, 66, 76,\n",
       "       87, 29, 94, 58, 43, 60, 75, 23,  3, 47, 40, 30, 87, 40, 35, 50, 34,\n",
       "       23, 83, 25, 67, 33, 14, 78, 48, 91, 35, 82, 44, 39, 31, 88, 91,  2,\n",
       "        8,  7, 13, 75, 97, 31, 46, 89, 14, 72, 53, 16, 28, 84, 52, 19, 83,\n",
       "       28, 13, 22, 77, 54,  9, 90,  8,  5, 82, 88,  3, 84, 41, 40])"
      ]
     },
     "execution_count": 36,
     "metadata": {},
     "output_type": "execute_result"
    }
   ],
   "source": [
    "dataset[:100]"
   ]
  },
  {
   "cell_type": "code",
   "execution_count": 37,
   "metadata": {},
   "outputs": [
    {
     "data": {
      "text/plain": [
       "array([11, 91,  8,  8, 27,  7, 44, 48, 35, 85,  1, 95, 37, 51, 99, 58, 27,\n",
       "        4, 16, 24, 94, 47, 32, 51,  8, 88, 81,  4, 68, 22, 89,  8, 81, 30,\n",
       "       69, 83, 63, 61, 38, 11,  5, 19,  1, 47, 76, 41,  2, 36, 20, 81, 60,\n",
       "       43, 21, 96, 77,  6, 36, 74, 80, 91, 42, 80, 98, 43, 81, 11, 84, 92,\n",
       "       77, 29, 16, 73, 38, 95, 20, 22, 61, 73,  5, 48, 88, 84, 66, 97, 89,\n",
       "       42, 42, 53, 57, 55, 49,  5, 73, 45,  7, 46, 44, 68, 12, 34])"
      ]
     },
     "execution_count": 37,
     "metadata": {},
     "output_type": "execute_result"
    }
   ],
   "source": [
    "dataset[-100:]"
   ]
  },
  {
   "cell_type": "code",
   "execution_count": 39,
   "metadata": {},
   "outputs": [
    {
     "data": {
      "text/plain": [
       "array([11, 91,  8,  8, 27,  7, 44, 48, 35, 85,  1, 95, 37, 51, 99, 58, 27,\n",
       "        4, 16, 24, 94, 47, 32, 51,  8, 88, 81,  4, 68, 22, 89,  8, 81, 30,\n",
       "       69, 83, 63, 61, 38, 11,  5, 19,  1, 47, 76, 41,  2, 36, 20, 81, 60,\n",
       "       43, 21, 96, 77,  6, 36, 74, 80, 91, 42, 80, 98, 43, 81, 11, 84, 92,\n",
       "       77, 29, 16, 73, 38, 95, 20, 22, 61, 73,  5, 48, 88, 84, 66, 97, 89,\n",
       "       42, 42, 53, 57, 55, 49,  5, 73, 45,  7, 46, 44, 68, 12, 34])"
      ]
     },
     "execution_count": 39,
     "metadata": {},
     "output_type": "execute_result"
    }
   ],
   "source": [
    "dataset[dataset.size - 100:]"
   ]
  },
  {
   "cell_type": "code",
   "execution_count": 40,
   "metadata": {},
   "outputs": [
    {
     "data": {
      "text/plain": [
       "array([False, False,  True, ..., False, False, False])"
      ]
     },
     "execution_count": 40,
     "metadata": {},
     "output_type": "execute_result"
    }
   ],
   "source": [
    "dataset < 10"
   ]
  },
  {
   "cell_type": "code",
   "execution_count": 41,
   "metadata": {},
   "outputs": [
    {
     "data": {
      "text/plain": [
       "array([4, 4, 4, 8, 3, 2, 8, 7, 9, 8, 5, 3, 7, 7, 5, 7, 3, 6, 6, 3, 3, 6,\n",
       "       2, 7, 1, 8, 7, 9, 9, 1, 4, 7, 6, 2, 4, 7, 3, 8, 4, 3, 6, 7, 4, 9,\n",
       "       9, 1, 9, 6, 9, 7, 4, 3, 3, 4, 7, 9, 4, 3, 8, 8, 3, 5, 9, 4, 3, 9,\n",
       "       7, 4, 8, 5, 7, 5, 2, 3, 5, 7, 7, 2, 2, 9, 9, 9, 5, 4, 5, 2, 7, 3,\n",
       "       1, 7, 3, 6, 3, 8, 6, 3, 1, 2, 8, 4, 7, 4, 9, 4, 3, 9, 3, 7, 5, 4,\n",
       "       9, 5, 8, 8, 7, 4, 4, 2, 8, 4, 1, 6, 6, 1, 9, 7, 4, 6, 5, 7, 4, 3,\n",
       "       4, 8, 7, 7, 4, 9, 5, 6, 7, 5, 8, 4, 5, 4, 8, 5, 1, 4, 9, 5, 8, 6,\n",
       "       6, 2, 4, 4, 8, 6, 7, 5, 2, 2, 3, 6, 9, 6, 8, 2, 7, 4, 8, 1, 5, 5,\n",
       "       8, 7, 8, 8, 3, 5, 9, 2, 8, 1, 3, 1, 3, 5, 2, 9, 5, 2, 1, 5, 6, 3,\n",
       "       6, 3, 1, 8, 1, 1, 8, 9, 1, 6, 1, 3, 7, 9, 1, 6, 7, 2, 9, 5, 9, 2,\n",
       "       4, 7, 3, 2, 4, 4, 3, 5, 7, 7, 3, 6, 7, 4, 6, 8, 8, 5, 4, 2, 6, 5,\n",
       "       8, 4, 2, 5, 9, 1, 3, 5, 9, 2, 5, 8, 7, 8, 6, 7, 7, 6, 1, 3, 9, 3,\n",
       "       1, 2, 1, 3, 8, 6, 9, 7, 3, 7, 5, 3, 6, 9, 6, 8, 1, 8, 3, 7, 2, 7,\n",
       "       9, 5, 4, 7, 6, 3, 4, 2, 5, 7, 5, 9, 6, 7, 6, 8, 6, 2, 7, 5, 6, 4,\n",
       "       4, 5, 9, 8, 4, 4, 5, 4, 5, 3, 8, 7, 6, 9, 4, 9, 9, 1, 5, 3, 4, 5,\n",
       "       2, 9, 8, 4, 4, 8, 9, 1, 7, 1, 9, 3, 5, 5, 8, 5, 8, 6, 4, 6, 1, 7,\n",
       "       2, 6, 1, 9, 4, 8, 6, 8, 7, 3, 9, 4, 1, 3, 6, 7, 9, 4, 7, 8, 2, 3,\n",
       "       2, 9, 7, 2, 5, 6, 4, 9, 8, 4, 3, 1, 2, 8, 6, 7, 6, 9, 1, 1, 7, 8,\n",
       "       6, 7, 5, 1, 6, 9, 3, 7, 9, 8, 4, 2, 4, 9, 5, 2, 1, 4, 8, 8, 8, 1,\n",
       "       6, 5, 2, 5, 5, 1, 9, 5, 5, 4, 2, 8, 9, 6, 2, 7, 3, 5, 2, 8, 4, 7,\n",
       "       2, 8, 1, 9, 1, 4, 8, 8, 9, 4, 1, 2, 9, 9, 5, 7, 3, 6, 7, 2, 1, 4,\n",
       "       3, 1, 7, 4, 8, 4, 8, 8, 6, 9, 3, 8, 6, 1, 6, 4, 8, 1, 5, 1, 7, 6,\n",
       "       9, 7, 6, 6, 9, 4, 6, 5, 4, 6, 4, 8, 1, 1, 7, 8, 9, 6, 6, 2, 8, 6,\n",
       "       5, 2, 6, 3, 1, 9, 2, 9, 6, 6, 1, 5, 4, 7, 7, 7, 7, 1, 8, 7, 8, 9,\n",
       "       9, 6, 4, 9, 7, 4, 6, 2, 6, 4, 3, 5, 4, 2, 5, 1, 8, 8, 2, 5, 2, 7,\n",
       "       1, 6, 4, 4, 4, 5, 3, 4, 1, 6, 7, 8, 4, 7, 6, 1, 8, 8, 1, 2, 9, 7,\n",
       "       4, 5, 1, 1, 8, 5, 7, 8, 5, 4, 3, 2, 8, 3, 6, 4, 3, 3, 7, 7, 8, 2,\n",
       "       7, 7, 2, 8, 4, 6, 5, 5, 5, 7, 8, 2, 6, 6, 7, 4, 8, 1, 2, 4, 7, 7,\n",
       "       8, 6, 3, 3, 4, 9, 7, 9, 2, 6, 5, 8, 1, 3, 4, 4, 5, 1, 8, 2, 3, 7,\n",
       "       3, 9, 1, 5, 7, 6, 4, 6, 4, 8, 9, 5, 5, 3, 9, 5, 3, 6, 8, 3, 1, 5,\n",
       "       8, 3, 9, 1, 3, 6, 9, 3, 4, 7, 8, 7, 5, 4, 7, 9, 7, 9, 9, 5, 2, 6,\n",
       "       5, 9, 9, 7, 8, 3, 2, 4, 6, 7, 1, 7, 8, 1, 1, 8, 3, 2, 1, 9, 7, 1,\n",
       "       9, 8, 7, 6, 5, 9, 9, 1, 1, 8, 7, 5, 7, 8, 8, 3, 1, 7, 8, 4, 1, 9,\n",
       "       6, 5, 7, 7, 3, 6, 3, 5, 6, 3, 3, 3, 8, 4, 7, 3, 9, 6, 3, 2, 9, 3,\n",
       "       9, 1, 3, 5, 4, 8, 2, 9, 9, 1, 9, 2, 5, 5, 9, 6, 7, 3, 9, 9, 5, 5,\n",
       "       7, 3, 8, 2, 8, 9, 1, 9, 1, 1, 3, 3, 9, 3, 6, 6, 6, 6, 3, 2, 8, 6,\n",
       "       9, 2, 3, 1, 3, 2, 9, 6, 8, 8, 9, 4, 4, 7, 2, 2, 5, 4, 3, 6, 4, 4,\n",
       "       3, 4, 8, 9, 7, 9, 6, 7, 8, 1, 7, 8, 2, 7, 8, 9, 6, 7, 6, 9, 2, 1,\n",
       "       2, 8, 1, 3, 6, 9, 8, 3, 6, 4, 6, 5, 5, 5, 7, 4, 2, 9, 5, 6, 1, 6,\n",
       "       4, 1, 8, 9, 9, 4, 6, 6, 6, 8, 2, 7, 2, 3, 5, 8, 4, 3, 4, 8, 9, 4,\n",
       "       9, 5, 5, 6, 3, 1, 8, 3, 6, 7, 4, 9, 7, 2, 6, 5, 5, 9, 3, 3, 3, 7,\n",
       "       5, 5, 1, 6, 3, 2, 5, 9, 8, 8, 7, 1, 4, 8, 4, 8, 5, 1, 2, 6, 5, 5,\n",
       "       7])"
      ]
     },
     "execution_count": 41,
     "metadata": {},
     "output_type": "execute_result"
    }
   ],
   "source": [
    "dataset[dataset < 10]"
   ]
  },
  {
   "cell_type": "code",
   "execution_count": 42,
   "metadata": {},
   "outputs": [
    {
     "ename": "ValueError",
     "evalue": "The truth value of an array with more than one element is ambiguous. Use a.any() or a.all()",
     "output_type": "error",
     "traceback": [
      "\u001b[0;31m---------------------------------------------------------------------------\u001b[0m",
      "\u001b[0;31mValueError\u001b[0m                                Traceback (most recent call last)",
      "\u001b[0;32m<ipython-input-42-76ed28e3c66d>\u001b[0m in \u001b[0;36m<module>\u001b[0;34m\u001b[0m\n\u001b[0;32m----> 1\u001b[0;31m \u001b[0mdataset\u001b[0m\u001b[0;34m[\u001b[0m\u001b[0mdataset\u001b[0m \u001b[0;34m<\u001b[0m \u001b[0;36m3\u001b[0m \u001b[0;34m&\u001b[0m \u001b[0mdataset\u001b[0m \u001b[0;34m>\u001b[0m \u001b[0;36m97\u001b[0m\u001b[0;34m]\u001b[0m\u001b[0;34m\u001b[0m\u001b[0;34m\u001b[0m\u001b[0m\n\u001b[0m",
      "\u001b[0;31mValueError\u001b[0m: The truth value of an array with more than one element is ambiguous. Use a.any() or a.all()"
     ]
    }
   ],
   "source": [
    "dataset[dataset < 3 & dataset > 97]"
   ]
  },
  {
   "cell_type": "code",
   "execution_count": 43,
   "metadata": {},
   "outputs": [
    {
     "data": {
      "text/plain": [
       "array([], dtype=int64)"
      ]
     },
     "execution_count": 43,
     "metadata": {},
     "output_type": "execute_result"
    }
   ],
   "source": [
    "dataset[(dataset < 3) & (dataset > 97)]"
   ]
  },
  {
   "cell_type": "code",
   "execution_count": 46,
   "metadata": {},
   "outputs": [
    {
     "data": {
      "text/plain": [
       "array([ 2, 98,  2,  1, 98, 99,  1,  2, 99, 99,  1, 99, 98, 98, 98,  2,  2,\n",
       "        2,  2, 98, 99,  1, 99, 98, 99,  1,  2, 99, 99, 98,  2,  1,  1, 99,\n",
       "       98, 98, 99, 99,  1, 98,  2, 98, 99,  2, 99,  2, 98, 98,  2,  1,  2,\n",
       "        1, 99,  1, 98,  2, 99,  2,  1, 98, 98, 98,  1, 98,  1,  1,  1,  1,\n",
       "       99,  1, 99, 98,  2,  2,  2, 98, 99, 98,  2, 98,  2,  1,  2,  1, 98,\n",
       "        1,  2,  1, 99,  1,  2, 99, 98, 99, 99,  2,  2, 98, 98,  1,  2, 98,\n",
       "       98, 99,  1, 98, 98,  1, 98,  1,  2,  1, 98, 99, 99,  1, 98,  2,  2,\n",
       "       99,  2, 98,  1, 99,  2,  1,  1, 99, 98, 98,  1,  2, 99,  2,  1, 98,\n",
       "        1,  2, 98,  1, 99,  2,  2,  2, 99, 99,  2, 98, 99,  1, 98,  1,  1,\n",
       "        2,  2, 98,  1,  1, 99, 98, 98, 99, 99, 99, 98,  1, 99,  1,  1,  1,\n",
       "        1,  2,  2, 99,  1, 99,  2, 99, 99, 99,  1, 98, 99, 99,  1, 98, 98,\n",
       "       98, 99,  2, 99, 98,  2, 99,  1,  2,  2,  1, 98, 99,  1, 98,  1,  1,\n",
       "        2, 98, 98, 99,  1, 98,  1, 99, 99, 98, 98, 99,  2, 99, 98,  2,  2,\n",
       "       99, 99, 99,  2,  1,  2, 99, 98, 98, 98,  2,  1, 98, 98, 98,  1, 98,\n",
       "        2,  1, 99, 98, 99,  1, 98, 99,  1, 98, 98, 98, 99, 99, 98,  2, 98,\n",
       "       99,  2, 98,  1,  1,  1, 98,  2, 99, 98,  1, 99,  1,  1, 98,  1,  1,\n",
       "       98,  1, 99, 99,  2, 99,  1,  2, 98,  1, 99,  2, 99, 98, 99,  2,  1,\n",
       "       99, 99,  1,  1, 98, 98, 98,  2, 99, 98, 99,  2,  1,  2, 99, 98, 98,\n",
       "       98,  2,  2, 98, 98, 98, 98,  1, 98,  2, 99, 98,  2, 99,  1,  2,  1,\n",
       "       99, 98,  2,  1, 98,  1, 98, 99, 99,  2, 99,  2, 99,  1, 98, 99, 98,\n",
       "        2, 98,  1, 98,  2,  1, 99,  1,  2, 98])"
      ]
     },
     "execution_count": 46,
     "metadata": {},
     "output_type": "execute_result"
    }
   ],
   "source": [
    "dataset[(dataset < 3) | (dataset > 97)]"
   ]
  },
  {
   "cell_type": "code",
   "execution_count": 50,
   "metadata": {},
   "outputs": [],
   "source": [
    "dset1 =dataset[dataset<3]"
   ]
  },
  {
   "cell_type": "code",
   "execution_count": 51,
   "metadata": {},
   "outputs": [
    {
     "data": {
      "text/plain": [
       "array([2, 2, 1, 1, 2, 1, 2, 2, 2, 2, 1, 1, 2, 2, 1, 1, 1, 2, 2, 2, 2, 1,\n",
       "       2, 1, 1, 2, 2, 1, 1, 1, 1, 1, 1, 1, 2, 2, 2, 2, 2, 1, 2, 1, 1, 2,\n",
       "       1, 1, 2, 2, 2, 1, 2, 1, 1, 1, 2, 1, 1, 2, 2, 2, 1, 2, 1, 1, 1, 2,\n",
       "       2, 1, 1, 2, 1, 2, 2, 2, 2, 1, 1, 1, 2, 2, 1, 1, 1, 1, 1, 1, 1, 2,\n",
       "       2, 1, 2, 1, 1, 2, 2, 1, 2, 2, 1, 1, 1, 1, 2, 1, 1, 2, 2, 2, 2, 1,\n",
       "       2, 2, 1, 1, 2, 1, 1, 1, 2, 2, 1, 1, 1, 2, 1, 1, 1, 1, 1, 1, 2, 1,\n",
       "       2, 1, 2, 2, 1, 1, 1, 2, 2, 1, 2, 2, 2, 1, 2, 2, 1, 2, 1, 2, 1, 1,\n",
       "       2, 2, 1, 2, 1, 2, 1, 1, 2])"
      ]
     },
     "execution_count": 51,
     "metadata": {},
     "output_type": "execute_result"
    }
   ],
   "source": [
    "dset1"
   ]
  },
  {
   "cell_type": "code",
   "execution_count": 52,
   "metadata": {},
   "outputs": [
    {
     "data": {
      "text/plain": [
       "163"
      ]
     },
     "execution_count": 52,
     "metadata": {},
     "output_type": "execute_result"
    }
   ],
   "source": [
    "dset1.size"
   ]
  },
  {
   "cell_type": "code",
   "execution_count": 53,
   "metadata": {},
   "outputs": [
    {
     "data": {
      "text/plain": [
       "True"
      ]
     },
     "execution_count": 53,
     "metadata": {},
     "output_type": "execute_result"
    }
   ],
   "source": [
    "np.any(dset1)"
   ]
  },
  {
   "cell_type": "code",
   "execution_count": 54,
   "metadata": {},
   "outputs": [
    {
     "data": {
      "text/plain": [
       "True"
      ]
     },
     "execution_count": 54,
     "metadata": {},
     "output_type": "execute_result"
    }
   ],
   "source": [
    "np.all(dset1)"
   ]
  },
  {
   "cell_type": "code",
   "execution_count": 55,
   "metadata": {},
   "outputs": [
    {
     "data": {
      "text/plain": [
       "True"
      ]
     },
     "execution_count": 55,
     "metadata": {},
     "output_type": "execute_result"
    }
   ],
   "source": [
    "np.any(dset1 <2)"
   ]
  },
  {
   "cell_type": "code",
   "execution_count": 57,
   "metadata": {},
   "outputs": [
    {
     "data": {
      "text/plain": [
       "False"
      ]
     },
     "execution_count": 57,
     "metadata": {},
     "output_type": "execute_result"
    }
   ],
   "source": [
    "np.all(dset1 < 2)"
   ]
  },
  {
   "cell_type": "code",
   "execution_count": 58,
   "metadata": {},
   "outputs": [
    {
     "name": "stdout",
     "output_type": "stream",
     "text": [
      "Help on built-in function where in module numpy:\n",
      "\n",
      "where(...)\n",
      "    where(condition, [x, y])\n",
      "    \n",
      "    Return elements chosen from `x` or `y` depending on `condition`.\n",
      "    \n",
      "    .. note::\n",
      "        When only `condition` is provided, this function is a shorthand for\n",
      "        ``np.asarray(condition).nonzero()``. Using `nonzero` directly should be\n",
      "        preferred, as it behaves correctly for subclasses. The rest of this\n",
      "        documentation covers only the case where all three arguments are\n",
      "        provided.\n",
      "    \n",
      "    Parameters\n",
      "    ----------\n",
      "    condition : array_like, bool\n",
      "        Where True, yield `x`, otherwise yield `y`.\n",
      "    x, y : array_like\n",
      "        Values from which to choose. `x`, `y` and `condition` need to be\n",
      "        broadcastable to some shape.\n",
      "    \n",
      "    Returns\n",
      "    -------\n",
      "    out : ndarray\n",
      "        An array with elements from `x` where `condition` is True, and elements\n",
      "        from `y` elsewhere.\n",
      "    \n",
      "    See Also\n",
      "    --------\n",
      "    choose\n",
      "    nonzero : The function that is called when x and y are omitted\n",
      "    \n",
      "    Notes\n",
      "    -----\n",
      "    If all the arrays are 1-D, `where` is equivalent to::\n",
      "    \n",
      "        [xv if c else yv\n",
      "         for c, xv, yv in zip(condition, x, y)]\n",
      "    \n",
      "    Examples\n",
      "    --------\n",
      "    >>> a = np.arange(10)\n",
      "    >>> a\n",
      "    array([0, 1, 2, 3, 4, 5, 6, 7, 8, 9])\n",
      "    >>> np.where(a < 5, a, 10*a)\n",
      "    array([ 0,  1,  2,  3,  4, 50, 60, 70, 80, 90])\n",
      "    \n",
      "    This can be used on multidimensional arrays too:\n",
      "    \n",
      "    >>> np.where([[True, False], [True, True]],\n",
      "    ...          [[1, 2], [3, 4]],\n",
      "    ...          [[9, 8], [7, 6]])\n",
      "    array([[1, 8],\n",
      "           [3, 4]])\n",
      "    \n",
      "    The shapes of x, y, and the condition are broadcast together:\n",
      "    \n",
      "    >>> x, y = np.ogrid[:3, :4]\n",
      "    >>> np.where(x < y, x, 10 + y)  # both x and 10+y are broadcast\n",
      "    array([[10,  0,  0,  0],\n",
      "           [10, 11,  1,  1],\n",
      "           [10, 11, 12,  2]])\n",
      "    \n",
      "    >>> a = np.array([[0, 1, 2],\n",
      "    ...               [0, 2, 4],\n",
      "    ...               [0, 3, 6]])\n",
      "    >>> np.where(a < 4, a, -1)  # -1 is broadcast\n",
      "    array([[ 0,  1,  2],\n",
      "           [ 0,  2, -1],\n",
      "           [ 0,  3, -1]])\n",
      "\n"
     ]
    }
   ],
   "source": [
    "help(np.where)"
   ]
  },
  {
   "cell_type": "code",
   "execution_count": 64,
   "metadata": {},
   "outputs": [
    {
     "data": {
      "text/plain": [
       "(array([  2,   3,   5,  10,  11,  14,  15,  16,  21,  23,  24,  27,  28,\n",
       "         29,  30,  31,  32,  33,  39,  41,  42,  44,  45,  49,  51,  52,\n",
       "         53,  55,  56,  60,  62,  63,  64,  67,  68,  70,  75,  76,  77,\n",
       "         80,  81,  82,  83,  84,  85,  86,  89,  91,  92,  95,  98,  99,\n",
       "        100, 101, 103, 104, 109, 112, 113, 115, 116, 117, 120, 121, 122,\n",
       "        124, 125, 126, 127, 128, 129, 131, 133, 136, 137, 138, 141, 145,\n",
       "        148, 150, 152, 153, 156, 158, 160, 161]),)"
      ]
     },
     "execution_count": 64,
     "metadata": {},
     "output_type": "execute_result"
    }
   ],
   "source": [
    "np.where(dset1<2)"
   ]
  },
  {
   "cell_type": "markdown",
   "metadata": {},
   "source": [
    "Return the index"
   ]
  },
  {
   "cell_type": "code",
   "execution_count": 62,
   "metadata": {},
   "outputs": [
    {
     "data": {
      "text/plain": [
       "array([2, 2, 1, 1, 2, 1, 2, 2, 2, 2, 1, 1, 2, 2, 1, 1, 1, 2, 2, 2, 2, 1,\n",
       "       2, 1, 1, 2, 2, 1, 1, 1, 1, 1, 1, 1, 2, 2, 2, 2, 2, 1, 2, 1, 1, 2,\n",
       "       1, 1, 2, 2, 2, 1, 2, 1, 1, 1, 2, 1, 1, 2, 2, 2, 1, 2, 1, 1, 1, 2,\n",
       "       2, 1, 1, 2, 1, 2, 2, 2, 2, 1, 1, 1, 2, 2, 1, 1, 1, 1, 1, 1, 1, 2,\n",
       "       2, 1, 2, 1, 1, 2, 2, 1, 2, 2, 1, 1, 1, 1, 2, 1, 1, 2, 2, 2, 2, 1,\n",
       "       2, 2, 1, 1, 2, 1, 1, 1, 2, 2, 1, 1, 1, 2, 1, 1, 1, 1, 1, 1, 2, 1,\n",
       "       2, 1, 2, 2, 1, 1, 1, 2, 2, 1, 2, 2, 2, 1, 2, 2, 1, 2, 1, 2, 1, 1,\n",
       "       2, 2, 1, 2, 1, 2, 1, 1, 2])"
      ]
     },
     "execution_count": 62,
     "metadata": {},
     "output_type": "execute_result"
    }
   ],
   "source": [
    "dset1"
   ]
  },
  {
   "cell_type": "code",
   "execution_count": 65,
   "metadata": {},
   "outputs": [
    {
     "data": {
      "text/plain": [
       "array(['TWO', 'TWO', 'ONe', 'ONe', 'TWO', 'ONe', 'TWO', 'TWO', 'TWO',\n",
       "       'TWO', 'ONe', 'ONe', 'TWO', 'TWO', 'ONe', 'ONe', 'ONe', 'TWO',\n",
       "       'TWO', 'TWO', 'TWO', 'ONe', 'TWO', 'ONe', 'ONe', 'TWO', 'TWO',\n",
       "       'ONe', 'ONe', 'ONe', 'ONe', 'ONe', 'ONe', 'ONe', 'TWO', 'TWO',\n",
       "       'TWO', 'TWO', 'TWO', 'ONe', 'TWO', 'ONe', 'ONe', 'TWO', 'ONe',\n",
       "       'ONe', 'TWO', 'TWO', 'TWO', 'ONe', 'TWO', 'ONe', 'ONe', 'ONe',\n",
       "       'TWO', 'ONe', 'ONe', 'TWO', 'TWO', 'TWO', 'ONe', 'TWO', 'ONe',\n",
       "       'ONe', 'ONe', 'TWO', 'TWO', 'ONe', 'ONe', 'TWO', 'ONe', 'TWO',\n",
       "       'TWO', 'TWO', 'TWO', 'ONe', 'ONe', 'ONe', 'TWO', 'TWO', 'ONe',\n",
       "       'ONe', 'ONe', 'ONe', 'ONe', 'ONe', 'ONe', 'TWO', 'TWO', 'ONe',\n",
       "       'TWO', 'ONe', 'ONe', 'TWO', 'TWO', 'ONe', 'TWO', 'TWO', 'ONe',\n",
       "       'ONe', 'ONe', 'ONe', 'TWO', 'ONe', 'ONe', 'TWO', 'TWO', 'TWO',\n",
       "       'TWO', 'ONe', 'TWO', 'TWO', 'ONe', 'ONe', 'TWO', 'ONe', 'ONe',\n",
       "       'ONe', 'TWO', 'TWO', 'ONe', 'ONe', 'ONe', 'TWO', 'ONe', 'ONe',\n",
       "       'ONe', 'ONe', 'ONe', 'ONe', 'TWO', 'ONe', 'TWO', 'ONe', 'TWO',\n",
       "       'TWO', 'ONe', 'ONe', 'ONe', 'TWO', 'TWO', 'ONe', 'TWO', 'TWO',\n",
       "       'TWO', 'ONe', 'TWO', 'TWO', 'ONe', 'TWO', 'ONe', 'TWO', 'ONe',\n",
       "       'ONe', 'TWO', 'TWO', 'ONe', 'TWO', 'ONe', 'TWO', 'ONe', 'ONe',\n",
       "       'TWO'], dtype='<U3')"
      ]
     },
     "execution_count": 65,
     "metadata": {},
     "output_type": "execute_result"
    }
   ],
   "source": [
    "np.where(dset1<2,\"ONe\",\"TWO\")"
   ]
  },
  {
   "cell_type": "code",
   "execution_count": 66,
   "metadata": {},
   "outputs": [
    {
     "name": "stdout",
     "output_type": "stream",
     "text": [
      "Help on function apply_along_axis in module numpy:\n",
      "\n",
      "apply_along_axis(func1d, axis, arr, *args, **kwargs)\n",
      "    Apply a function to 1-D slices along the given axis.\n",
      "    \n",
      "    Execute `func1d(a, *args)` where `func1d` operates on 1-D arrays and `a`\n",
      "    is a 1-D slice of `arr` along `axis`.\n",
      "    \n",
      "    This is equivalent to (but faster than) the following use of `ndindex` and\n",
      "    `s_`, which sets each of ``ii``, ``jj``, and ``kk`` to a tuple of indices::\n",
      "    \n",
      "        Ni, Nk = a.shape[:axis], a.shape[axis+1:]\n",
      "        for ii in ndindex(Ni):\n",
      "            for kk in ndindex(Nk):\n",
      "                f = func1d(arr[ii + s_[:,] + kk])\n",
      "                Nj = f.shape\n",
      "                for jj in ndindex(Nj):\n",
      "                    out[ii + jj + kk] = f[jj]\n",
      "    \n",
      "    Equivalently, eliminating the inner loop, this can be expressed as::\n",
      "    \n",
      "        Ni, Nk = a.shape[:axis], a.shape[axis+1:]\n",
      "        for ii in ndindex(Ni):\n",
      "            for kk in ndindex(Nk):\n",
      "                out[ii + s_[...,] + kk] = func1d(arr[ii + s_[:,] + kk])\n",
      "    \n",
      "    Parameters\n",
      "    ----------\n",
      "    func1d : function (M,) -> (Nj...)\n",
      "        This function should accept 1-D arrays. It is applied to 1-D\n",
      "        slices of `arr` along the specified axis.\n",
      "    axis : integer\n",
      "        Axis along which `arr` is sliced.\n",
      "    arr : ndarray (Ni..., M, Nk...)\n",
      "        Input array.\n",
      "    args : any\n",
      "        Additional arguments to `func1d`.\n",
      "    kwargs : any\n",
      "        Additional named arguments to `func1d`.\n",
      "    \n",
      "        .. versionadded:: 1.9.0\n",
      "    \n",
      "    \n",
      "    Returns\n",
      "    -------\n",
      "    out : ndarray  (Ni..., Nj..., Nk...)\n",
      "        The output array. The shape of `out` is identical to the shape of\n",
      "        `arr`, except along the `axis` dimension. This axis is removed, and\n",
      "        replaced with new dimensions equal to the shape of the return value\n",
      "        of `func1d`. So if `func1d` returns a scalar `out` will have one\n",
      "        fewer dimensions than `arr`.\n",
      "    \n",
      "    See Also\n",
      "    --------\n",
      "    apply_over_axes : Apply a function repeatedly over multiple axes.\n",
      "    \n",
      "    Examples\n",
      "    --------\n",
      "    >>> def my_func(a):\n",
      "    ...     \"\"\"Average first and last element of a 1-D array\"\"\"\n",
      "    ...     return (a[0] + a[-1]) * 0.5\n",
      "    >>> b = np.array([[1,2,3], [4,5,6], [7,8,9]])\n",
      "    >>> np.apply_along_axis(my_func, 0, b)\n",
      "    array([ 4.,  5.,  6.])\n",
      "    >>> np.apply_along_axis(my_func, 1, b)\n",
      "    array([ 2.,  5.,  8.])\n",
      "    \n",
      "    For a function that returns a 1D array, the number of dimensions in\n",
      "    `outarr` is the same as `arr`.\n",
      "    \n",
      "    >>> b = np.array([[8,1,7], [4,3,9], [5,2,6]])\n",
      "    >>> np.apply_along_axis(sorted, 1, b)\n",
      "    array([[1, 7, 8],\n",
      "           [3, 4, 9],\n",
      "           [2, 5, 6]])\n",
      "    \n",
      "    For a function that returns a higher dimensional array, those dimensions\n",
      "    are inserted in place of the `axis` dimension.\n",
      "    \n",
      "    >>> b = np.array([[1,2,3], [4,5,6], [7,8,9]])\n",
      "    >>> np.apply_along_axis(np.diag, -1, b)\n",
      "    array([[[1, 0, 0],\n",
      "            [0, 2, 0],\n",
      "            [0, 0, 3]],\n",
      "           [[4, 0, 0],\n",
      "            [0, 5, 0],\n",
      "            [0, 0, 6]],\n",
      "           [[7, 0, 0],\n",
      "            [0, 8, 0],\n",
      "            [0, 0, 9]]])\n",
      "\n"
     ]
    }
   ],
   "source": [
    "help(np.apply_along_axis)"
   ]
  },
  {
   "cell_type": "code",
   "execution_count": 67,
   "metadata": {},
   "outputs": [],
   "source": [
    "def map_nums(val):\n",
    "    if val==1: return \"One\"\n",
    "    elif val==2 : return \"Two\"\n",
    "    elif val==3 : return \"Three\"\n",
    "    else: return \"Other\""
   ]
  },
  {
   "cell_type": "code",
   "execution_count": 69,
   "metadata": {},
   "outputs": [],
   "source": [
    "dset2=dataset[dataset<5]"
   ]
  },
  {
   "cell_type": "code",
   "execution_count": 70,
   "metadata": {},
   "outputs": [
    {
     "data": {
      "text/plain": [
       "array([4, 4, 4, 3, 2, 3, 3, 3, 3, 2, 1, 1, 4, 2, 4, 3, 4, 3, 4, 1, 4, 3,\n",
       "       3, 4, 4, 3, 3, 4, 3, 4, 2, 3, 2, 2, 4, 2, 3, 1, 3, 3, 3, 1, 2, 4,\n",
       "       4, 4, 3, 3, 4, 4, 4, 2, 4, 1, 1, 4, 4, 3, 4, 4, 4, 4, 1, 4, 2, 4,\n",
       "       4, 2, 2, 3, 2, 4, 1, 3, 2, 1, 3, 1, 3, 2, 2, 1, 3, 3, 1, 1, 1, 1,\n",
       "       1, 3, 1, 2, 2, 4, 3, 2, 4, 4, 3, 3, 4, 4, 2, 4, 2, 1, 3, 2, 1, 3,\n",
       "       3, 1, 2, 1, 3, 3, 3, 1, 3, 2, 4, 3, 4, 2, 2, 4, 4, 4, 4, 4, 3, 4,\n",
       "       1, 3, 4, 2, 4, 4, 1, 1, 3, 4, 1, 2, 1, 4, 3, 4, 1, 3, 4, 2, 3, 2,\n",
       "       2, 4, 4, 3, 1, 2, 1, 1, 1, 3, 4, 2, 4, 2, 1, 4, 1, 2, 1, 4, 2, 2,\n",
       "       3, 2, 4, 2, 1, 1, 4, 4, 1, 2, 3, 2, 1, 4, 3, 1, 4, 4, 3, 1, 4, 1,\n",
       "       1, 4, 4, 4, 1, 1, 2, 2, 3, 1, 2, 1, 4, 1, 4, 4, 2, 4, 3, 4, 2, 1,\n",
       "       2, 2, 1, 4, 4, 4, 3, 4, 1, 4, 1, 1, 2, 4, 1, 1, 4, 3, 2, 3, 4, 3,\n",
       "       3, 2, 2, 4, 2, 4, 1, 2, 4, 3, 3, 4, 2, 1, 3, 4, 4, 1, 2, 3, 3, 1,\n",
       "       4, 4, 3, 3, 3, 1, 3, 1, 3, 3, 4, 4, 2, 3, 2, 4, 1, 1, 1, 3, 2, 1,\n",
       "       1, 1, 1, 3, 1, 4, 1, 3, 3, 3, 3, 3, 4, 3, 3, 2, 3, 1, 3, 4, 2, 1,\n",
       "       2, 3, 3, 2, 1, 1, 1, 3, 3, 3, 3, 2, 2, 3, 1, 3, 2, 4, 4, 2, 2, 4,\n",
       "       3, 4, 4, 3, 4, 1, 2, 2, 1, 2, 1, 3, 3, 4, 4, 2, 1, 4, 1, 4, 2, 2,\n",
       "       3, 4, 3, 4, 4, 3, 1, 3, 4, 2, 3, 3, 3, 1, 3, 2, 1, 4, 4, 1, 2])"
      ]
     },
     "execution_count": 70,
     "metadata": {},
     "output_type": "execute_result"
    }
   ],
   "source": [
    "dset2"
   ]
  },
  {
   "cell_type": "code",
   "execution_count": 71,
   "metadata": {},
   "outputs": [
    {
     "ename": "NameError",
     "evalue": "name 'mapp_nums' is not defined",
     "output_type": "error",
     "traceback": [
      "\u001b[0;31m---------------------------------------------------------------------------\u001b[0m",
      "\u001b[0;31mNameError\u001b[0m                                 Traceback (most recent call last)",
      "\u001b[0;32m<ipython-input-71-b29aae61d1f5>\u001b[0m in \u001b[0;36m<module>\u001b[0;34m\u001b[0m\n\u001b[0;32m----> 1\u001b[0;31m \u001b[0mnp\u001b[0m\u001b[0;34m.\u001b[0m\u001b[0mapply_along_axis\u001b[0m\u001b[0;34m(\u001b[0m\u001b[0mmapp_nums\u001b[0m\u001b[0;34m,\u001b[0m\u001b[0;36m0\u001b[0m\u001b[0;34m,\u001b[0m\u001b[0mdset2\u001b[0m\u001b[0;34m)\u001b[0m\u001b[0;34m\u001b[0m\u001b[0;34m\u001b[0m\u001b[0m\n\u001b[0m",
      "\u001b[0;31mNameError\u001b[0m: name 'mapp_nums' is not defined"
     ]
    }
   ],
   "source": [
    "np.apply_along_axis(mapp_nums,0,dset2)"
   ]
  },
  {
   "cell_type": "code",
   "execution_count": 73,
   "metadata": {},
   "outputs": [],
   "source": [
    "mapp = np.vectorize (map_nums)"
   ]
  },
  {
   "cell_type": "code",
   "execution_count": 74,
   "metadata": {},
   "outputs": [
    {
     "data": {
      "text/plain": [
       "array(['Other', 'Other', 'Other', 'Three', 'Two', 'Three', 'Three',\n",
       "       'Three', 'Three', 'Two', 'One', 'One', 'Other', 'Two', 'Other',\n",
       "       'Three', 'Other', 'Three', 'Other', 'One', 'Other', 'Three',\n",
       "       'Three', 'Other', 'Other', 'Three', 'Three', 'Other', 'Three',\n",
       "       'Other', 'Two', 'Three', 'Two', 'Two', 'Other', 'Two', 'Three',\n",
       "       'One', 'Three', 'Three', 'Three', 'One', 'Two', 'Other', 'Other',\n",
       "       'Other', 'Three', 'Three', 'Other', 'Other', 'Other', 'Two',\n",
       "       'Other', 'One', 'One', 'Other', 'Other', 'Three', 'Other', 'Other',\n",
       "       'Other', 'Other', 'One', 'Other', 'Two', 'Other', 'Other', 'Two',\n",
       "       'Two', 'Three', 'Two', 'Other', 'One', 'Three', 'Two', 'One',\n",
       "       'Three', 'One', 'Three', 'Two', 'Two', 'One', 'Three', 'Three',\n",
       "       'One', 'One', 'One', 'One', 'One', 'Three', 'One', 'Two', 'Two',\n",
       "       'Other', 'Three', 'Two', 'Other', 'Other', 'Three', 'Three',\n",
       "       'Other', 'Other', 'Two', 'Other', 'Two', 'One', 'Three', 'Two',\n",
       "       'One', 'Three', 'Three', 'One', 'Two', 'One', 'Three', 'Three',\n",
       "       'Three', 'One', 'Three', 'Two', 'Other', 'Three', 'Other', 'Two',\n",
       "       'Two', 'Other', 'Other', 'Other', 'Other', 'Other', 'Three',\n",
       "       'Other', 'One', 'Three', 'Other', 'Two', 'Other', 'Other', 'One',\n",
       "       'One', 'Three', 'Other', 'One', 'Two', 'One', 'Other', 'Three',\n",
       "       'Other', 'One', 'Three', 'Other', 'Two', 'Three', 'Two', 'Two',\n",
       "       'Other', 'Other', 'Three', 'One', 'Two', 'One', 'One', 'One',\n",
       "       'Three', 'Other', 'Two', 'Other', 'Two', 'One', 'Other', 'One',\n",
       "       'Two', 'One', 'Other', 'Two', 'Two', 'Three', 'Two', 'Other',\n",
       "       'Two', 'One', 'One', 'Other', 'Other', 'One', 'Two', 'Three',\n",
       "       'Two', 'One', 'Other', 'Three', 'One', 'Other', 'Other', 'Three',\n",
       "       'One', 'Other', 'One', 'One', 'Other', 'Other', 'Other', 'One',\n",
       "       'One', 'Two', 'Two', 'Three', 'One', 'Two', 'One', 'Other', 'One',\n",
       "       'Other', 'Other', 'Two', 'Other', 'Three', 'Other', 'Two', 'One',\n",
       "       'Two', 'Two', 'One', 'Other', 'Other', 'Other', 'Three', 'Other',\n",
       "       'One', 'Other', 'One', 'One', 'Two', 'Other', 'One', 'One',\n",
       "       'Other', 'Three', 'Two', 'Three', 'Other', 'Three', 'Three', 'Two',\n",
       "       'Two', 'Other', 'Two', 'Other', 'One', 'Two', 'Other', 'Three',\n",
       "       'Three', 'Other', 'Two', 'One', 'Three', 'Other', 'Other', 'One',\n",
       "       'Two', 'Three', 'Three', 'One', 'Other', 'Other', 'Three', 'Three',\n",
       "       'Three', 'One', 'Three', 'One', 'Three', 'Three', 'Other', 'Other',\n",
       "       'Two', 'Three', 'Two', 'Other', 'One', 'One', 'One', 'Three',\n",
       "       'Two', 'One', 'One', 'One', 'One', 'Three', 'One', 'Other', 'One',\n",
       "       'Three', 'Three', 'Three', 'Three', 'Three', 'Other', 'Three',\n",
       "       'Three', 'Two', 'Three', 'One', 'Three', 'Other', 'Two', 'One',\n",
       "       'Two', 'Three', 'Three', 'Two', 'One', 'One', 'One', 'Three',\n",
       "       'Three', 'Three', 'Three', 'Two', 'Two', 'Three', 'One', 'Three',\n",
       "       'Two', 'Other', 'Other', 'Two', 'Two', 'Other', 'Three', 'Other',\n",
       "       'Other', 'Three', 'Other', 'One', 'Two', 'Two', 'One', 'Two',\n",
       "       'One', 'Three', 'Three', 'Other', 'Other', 'Two', 'One', 'Other',\n",
       "       'One', 'Other', 'Two', 'Two', 'Three', 'Other', 'Three', 'Other',\n",
       "       'Other', 'Three', 'One', 'Three', 'Other', 'Two', 'Three', 'Three',\n",
       "       'Three', 'One', 'Three', 'Two', 'One', 'Other', 'Other', 'One',\n",
       "       'Two'], dtype='<U5')"
      ]
     },
     "execution_count": 74,
     "metadata": {},
     "output_type": "execute_result"
    }
   ],
   "source": [
    "mapp(dset2)"
   ]
  },
  {
   "cell_type": "code",
   "execution_count": 76,
   "metadata": {},
   "outputs": [],
   "source": [
    "def m1(arg):\n",
    "    return arg"
   ]
  },
  {
   "cell_type": "code",
   "execution_count": 83,
   "metadata": {},
   "outputs": [],
   "source": [
    "def hello(func):\n",
    "    def wrapper(arg):\n",
    "        return \"Hello \"+ func(arg)\n",
    "    return wrapper"
   ]
  },
  {
   "cell_type": "code",
   "execution_count": 84,
   "metadata": {},
   "outputs": [],
   "source": [
    "m2 = hello(m1)"
   ]
  },
  {
   "cell_type": "code",
   "execution_count": 85,
   "metadata": {},
   "outputs": [
    {
     "data": {
      "text/plain": [
       "<function __main__.hello.<locals>.wrapper(arg)>"
      ]
     },
     "execution_count": 85,
     "metadata": {},
     "output_type": "execute_result"
    }
   ],
   "source": [
    "m2"
   ]
  },
  {
   "cell_type": "code",
   "execution_count": 86,
   "metadata": {},
   "outputs": [
    {
     "data": {
      "text/plain": [
       "'world'"
      ]
     },
     "execution_count": 86,
     "metadata": {},
     "output_type": "execute_result"
    }
   ],
   "source": [
    "m1(\"world\")"
   ]
  },
  {
   "cell_type": "code",
   "execution_count": 87,
   "metadata": {},
   "outputs": [
    {
     "data": {
      "text/plain": [
       "'Hello world'"
      ]
     },
     "execution_count": 87,
     "metadata": {},
     "output_type": "execute_result"
    }
   ],
   "source": [
    "m2(\"world\")"
   ]
  },
  {
   "cell_type": "code",
   "execution_count": 88,
   "metadata": {},
   "outputs": [],
   "source": [
    "@hello\n",
    "def m3(arg):\n",
    "    return arg*3"
   ]
  },
  {
   "cell_type": "code",
   "execution_count": 89,
   "metadata": {},
   "outputs": [
    {
     "data": {
      "text/plain": [
       "'Hello worldworldworld'"
      ]
     },
     "execution_count": 89,
     "metadata": {},
     "output_type": "execute_result"
    }
   ],
   "source": [
    "m3(\"world\")"
   ]
  },
  {
   "cell_type": "code",
   "execution_count": null,
   "metadata": {},
   "outputs": [],
   "source": []
  }
 ],
 "metadata": {
  "kernelspec": {
   "display_name": "Python 3",
   "language": "python",
   "name": "python3"
  },
  "language_info": {
   "codemirror_mode": {
    "name": "ipython",
    "version": 3
   },
   "file_extension": ".py",
   "mimetype": "text/x-python",
   "name": "python",
   "nbconvert_exporter": "python",
   "pygments_lexer": "ipython3",
   "version": "3.7.3"
  }
 },
 "nbformat": 4,
 "nbformat_minor": 2
}
